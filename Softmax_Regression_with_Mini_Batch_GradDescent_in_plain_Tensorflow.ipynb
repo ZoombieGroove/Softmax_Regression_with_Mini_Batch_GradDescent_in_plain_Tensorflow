{
 "cells": [
  {
   "cell_type": "code",
   "execution_count": 1,
   "metadata": {},
   "outputs": [],
   "source": [
    "import tensorflow as tf"
   ]
  },
  {
   "cell_type": "code",
   "execution_count": 3,
   "metadata": {},
   "outputs": [
    {
     "name": "stdout",
     "output_type": "stream",
     "text": [
      "Extracting /tmp/data/train-images-idx3-ubyte.gz\n",
      "Extracting /tmp/data/train-labels-idx1-ubyte.gz\n",
      "Extracting /tmp/data/t10k-images-idx3-ubyte.gz\n",
      "Extracting /tmp/data/t10k-labels-idx1-ubyte.gz\n"
     ]
    }
   ],
   "source": [
    "from tensorflow.examples.tutorials.mnist import input_data\n",
    "Data_Dir ='/tmp/data'\n",
    "\n",
    "MNIST = input_data.read_data_sets(Data_Dir, one_hot=True)"
   ]
  },
  {
   "cell_type": "code",
   "execution_count": 4,
   "metadata": {},
   "outputs": [
    {
     "data": {
      "text/plain": [
       "Datasets(train=<tensorflow.contrib.learn.python.learn.datasets.mnist.DataSet object at 0x7f49a2cb1cc0>, validation=<tensorflow.contrib.learn.python.learn.datasets.mnist.DataSet object at 0x7f499c815cf8>, test=<tensorflow.contrib.learn.python.learn.datasets.mnist.DataSet object at 0x7f499c815a90>)"
      ]
     },
     "execution_count": 4,
     "metadata": {},
     "output_type": "execute_result"
    }
   ],
   "source": [
    "MNIST"
   ]
  },
  {
   "cell_type": "code",
   "execution_count": 5,
   "metadata": {},
   "outputs": [],
   "source": [
    "#Set the learning parameters\n",
    "learning_rate = 0.01\n",
    "training_iteration = 30\n",
    "mini_batch_size = 100"
   ]
  },
  {
   "cell_type": "code",
   "execution_count": 6,
   "metadata": {},
   "outputs": [],
   "source": [
    "#Tensorflow graph input\n",
    "x = tf.placeholder(tf.float32, shape = (None, 784)) #mnist image of shape 28*28=784\n",
    "y = tf.placeholder(tf.float32, shape = (None, 10)) #0-9 digits recognition"
   ]
  },
  {
   "cell_type": "code",
   "execution_count": 7,
   "metadata": {},
   "outputs": [
    {
     "name": "stdout",
     "output_type": "stream",
     "text": [
      "WARNING:tensorflow:From /home/ken/anaconda3/lib/python3.7/site-packages/tensorflow/python/framework/op_def_library.py:263: colocate_with (from tensorflow.python.framework.ops) is deprecated and will be removed in a future version.\n",
      "Instructions for updating:\n",
      "Colocations handled automatically by placer.\n"
     ]
    }
   ],
   "source": [
    "#Set model weights\n",
    "W = tf.Variable(tf.zeros([784,10]))\n",
    "b = tf.Variable(tf.zeros([10]))"
   ]
  },
  {
   "cell_type": "code",
   "execution_count": 8,
   "metadata": {},
   "outputs": [],
   "source": [
    "#Create NameScope to group model-related nodes\n",
    "with tf.name_scope(\"Wx_b\") as scope:\n",
    "    #Construct a linear model\n",
    "    model = tf.nn.softmax(tf.matmul(x,W) + b) #Softmax"
   ]
  },
  {
   "cell_type": "code",
   "execution_count": 9,
   "metadata": {},
   "outputs": [],
   "source": [
    "#Add summary to collect data\n",
    "w_h = tf.summary.histogram(\"weights\", W)\n",
    "b_h = tf.summary.histogram(\"biases\", b)"
   ]
  },
  {
   "cell_type": "code",
   "execution_count": 10,
   "metadata": {},
   "outputs": [],
   "source": [
    "#NameScope to group cost-function related nodes\n",
    "with tf.name_scope(\"cost_function\") as scope:\n",
    "    #Minimise the models errors using cross entropy\n",
    "    #Cross-entropy\n",
    "    cost_function = -tf.reduce_sum(y*tf.log(model))\n",
    "    #Create a summary to collect data on the cost function\n",
    "    tf.summary.scalar(\"cost_function\", cost_function)"
   ]
  },
  {
   "cell_type": "code",
   "execution_count": 11,
   "metadata": {},
   "outputs": [],
   "source": [
    "#Namescope to group Gradient-Descent related nodes\n",
    "with tf.name_scope(\"Gradient_Descent\") as scope:\n",
    "    #Gradient Descent\n",
    "    optimizer = tf.train.GradientDescentOptimizer(learning_rate).minimize(cost_function)"
   ]
  },
  {
   "cell_type": "code",
   "execution_count": 16,
   "metadata": {},
   "outputs": [],
   "source": [
    "#Initialising the variables\n",
    "init = tf.global_variables_initializer()\n",
    "saver = tf.train.Saver()"
   ]
  },
  {
   "cell_type": "code",
   "execution_count": 13,
   "metadata": {},
   "outputs": [],
   "source": [
    "#Merge all summaries into a single operator\n",
    "merged_summary_op = tf.summary.merge_all()"
   ]
  },
  {
   "cell_type": "code",
   "execution_count": 14,
   "metadata": {},
   "outputs": [
    {
     "data": {
      "text/plain": [
       "10000"
      ]
     },
     "execution_count": 14,
     "metadata": {},
     "output_type": "execute_result"
    }
   ],
   "source": [
    "MNIST.test.num_examples"
   ]
  },
  {
   "cell_type": "code",
   "execution_count": 15,
   "metadata": {},
   "outputs": [
    {
     "data": {
      "text/plain": [
       "55000"
      ]
     },
     "execution_count": 15,
     "metadata": {},
     "output_type": "execute_result"
    }
   ],
   "source": [
    "MNIST.train.num_examples"
   ]
  },
  {
   "cell_type": "code",
   "execution_count": 18,
   "metadata": {},
   "outputs": [
    {
     "data": {
      "text/plain": [
       "550"
      ]
     },
     "execution_count": 18,
     "metadata": {},
     "output_type": "execute_result"
    }
   ],
   "source": [
    "total_batch = MNIST.train.num_examples//mini_batch_size\n",
    "total_batch"
   ]
  },
  {
   "cell_type": "code",
   "execution_count": 17,
   "metadata": {},
   "outputs": [
    {
     "name": "stdout",
     "output_type": "stream",
     "text": [
      "Iteration: 0001 cost= 14.3548841\n",
      "Iteration: 0003 cost= 18.0803165\n",
      "Iteration: 0005 cost= 20.5399876\n",
      "Iteration: 0007 cost= 19.8984814\n",
      "Iteration: 0009 cost= 19.849472\n",
      "Iteration: 0011 cost= 5.78969383\n",
      "Iteration: 0013 cost= 35.9071541\n",
      "Iteration: 0015 cost= 22.3915367\n",
      "Iteration: 0017 cost= 13.6197758\n",
      "Iteration: 0019 cost= 16.4542599\n",
      "Iteration: 0021 cost= 8.68281841\n",
      "Iteration: 0023 cost= 9.38771725\n",
      "Iteration: 0025 cost= 11.9201126\n",
      "Iteration: 0027 cost= 46.079792\n",
      "Iteration: 0029 cost= 18.0578194\n",
      "Tuning completed\n",
      "Accuracy 0.9191\n"
     ]
    }
   ],
   "source": [
    "#Launch the graph\n",
    "with tf.Session() as sess:\n",
    "    sess.run(init)\n",
    "    \n",
    "    #write summaries to the folder /home/ken/my_tensorflow\n",
    "    FileWriter = tf.summary.FileWriter('/home/ken/venv', tf.get_default_graph())\n",
    "    \n",
    "    #Training cycle\n",
    "    for iteration in range(training_iteration):\n",
    "        avg_cost = 0\n",
    "        total_batch = MNIST.train.num_examples//mini_batch_size\n",
    "        for i in range(total_batch):\n",
    "            batch_xs, batch_ys =MNIST.train.next_batch(mini_batch_size)\n",
    "            sess.run(optimizer, feed_dict={x:batch_xs, y:batch_ys})\n",
    "\n",
    "            #Compute the average loss\n",
    "            avg_cost =0\n",
    "            avg_cost += sess.run(cost_function, feed_dict={x:batch_xs, y:batch_ys})\n",
    "\n",
    "            #Write logs for each iteration\n",
    "            summary_str = sess.run(merged_summary_op, feed_dict={x: batch_xs, y: batch_ys})\n",
    "            FileWriter.add_summary(summary_str)\n",
    "            saver.save(sess, '/home/ken/venv/myModels/softmax_regr_mini_batch_gd.ckpt')\n",
    "            \n",
    "        display_step =2\n",
    "        #Display logs per iteration\n",
    "        if iteration % display_step ==0:\n",
    "            print (\"Iteration:\",'%04d' % (iteration + 1), \"cost=\",'{:.9}'.format(avg_cost))\n",
    "\n",
    "    print ('Tuning completed')\n",
    "\n",
    "    predictions = tf.equal(tf.argmax(model, 1), tf.argmax(y, 1))\n",
    "\n",
    "    #Calculate Accuracy\n",
    "    accuracy =tf.reduce_mean(tf.cast(predictions, dtype=tf.float32))\n",
    "    print (\"Accuracy\", accuracy.eval({x: MNIST.test.images, y: MNIST.test.labels}))\n",
    "\n",
    "    "
   ]
  },
  {
   "cell_type": "code",
   "execution_count": 18,
   "metadata": {},
   "outputs": [],
   "source": [
    "FileWriter.close()"
   ]
  },
  {
   "cell_type": "code",
   "execution_count": null,
   "metadata": {},
   "outputs": [],
   "source": []
  }
 ],
 "metadata": {
  "kernelspec": {
   "display_name": "Python 3",
   "language": "python",
   "name": "python3"
  },
  "language_info": {
   "codemirror_mode": {
    "name": "ipython",
    "version": 3
   },
   "file_extension": ".py",
   "mimetype": "text/x-python",
   "name": "python",
   "nbconvert_exporter": "python",
   "pygments_lexer": "ipython3",
   "version": "3.7.3"
  }
 },
 "nbformat": 4,
 "nbformat_minor": 2
}
